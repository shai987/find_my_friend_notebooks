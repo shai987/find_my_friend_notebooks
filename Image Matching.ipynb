{
 "cells": [
  {
   "cell_type": "code",
   "execution_count": 7,
   "id": "36407e16",
   "metadata": {},
   "outputs": [],
   "source": [
    "import tensorflow as tf\n",
    "import tensorflow_hub as hub\n",
    "from PIL import Image\n",
    "import numpy as np"
   ]
  },
  {
   "cell_type": "code",
   "execution_count": 8,
   "id": "d07da61c",
   "metadata": {
    "scrolled": true
   },
   "outputs": [],
   "source": [
    "model_url = \"https://tfhub.dev/tensorflow/efficientnet/lite0/feature-vector/2\"\n",
    "\n",
    "IMAGE_SHAPE = (224, 224)\n",
    "\n",
    "layer = hub.KerasLayer(model_url)\n",
    "model = tf.keras.Sequential([layer])"
   ]
  },
  {
   "cell_type": "code",
   "execution_count": 9,
   "id": "35369bec",
   "metadata": {},
   "outputs": [],
   "source": [
    "def extract(file):\n",
    "  file = Image.open(file).convert('L').resize(IMAGE_SHAPE)\n",
    "  #display(file)\n",
    "\n",
    "  file = np.stack((file,)*3, axis=-1)\n",
    "\n",
    "  file = np.array(file)/255.0\n",
    "\n",
    "  embedding = model.predict(file[np.newaxis, ...])\n",
    "  #print(embedding)\n",
    "  vgg16_feature_np = np.array(embedding)\n",
    "  flattended_feature = vgg16_feature_np.flatten()\n",
    "\n",
    "  #print(len(flattended_feature))\n",
    "  #print(flattended_feature)\n",
    "  #print('-----------')\n",
    "  return flattended_feature"
   ]
  },
  {
   "cell_type": "code",
   "execution_count": 10,
   "id": "190fdeb2",
   "metadata": {},
   "outputs": [
    {
     "name": "stdout",
     "output_type": "stream",
     "text": [
      "WARNING:tensorflow:From C:\\Users\\ronel\\anaconda3\\lib\\site-packages\\tensorflow\\python\\autograph\\pyct\\static_analysis\\liveness.py:83: Analyzer.lamba_check (from tensorflow.python.autograph.pyct.static_analysis.liveness) is deprecated and will be removed after 2023-09-23.\n",
      "Instructions for updating:\n",
      "Lambda fuctions will be no more assumed to be used in the statement where they are used, or at least in the same block. https://github.com/tensorflow/tensorflow/issues/56089\n"
     ]
    },
    {
     "name": "stderr",
     "output_type": "stream",
     "text": [
      "WARNING:tensorflow:From C:\\Users\\ronel\\anaconda3\\lib\\site-packages\\tensorflow\\python\\autograph\\pyct\\static_analysis\\liveness.py:83: Analyzer.lamba_check (from tensorflow.python.autograph.pyct.static_analysis.liveness) is deprecated and will be removed after 2023-09-23.\n",
      "Instructions for updating:\n",
      "Lambda fuctions will be no more assumed to be used in the statement where they are used, or at least in the same block. https://github.com/tensorflow/tensorflow/issues/56089\n"
     ]
    },
    {
     "name": "stdout",
     "output_type": "stream",
     "text": [
      "1/1 [==============================] - 1s 850ms/step\n",
      "1/1 [==============================] - 0s 42ms/step\n",
      "1/1 [==============================] - 0s 39ms/step\n",
      "1/1 [==============================] - 0s 42ms/step\n",
      "1/1 [==============================] - 0s 43ms/step\n"
     ]
    }
   ],
   "source": [
    "dog1 = extract(\"pets_photos/dog8.jpeg\")\n",
    "dog2 = extract(\"pets_photos/dog9.jpeg\")\n",
    "dog3 = extract(\"pets_photos/dog6.jpeg\")\n",
    "cat1 = extract(\"pets_photos/cat.jpeg\")\n",
    "cat2 = extract(\"pets_photos/cat4.jpeg\")"
   ]
  },
  {
   "cell_type": "code",
   "execution_count": 11,
   "id": "ba07ca1a",
   "metadata": {},
   "outputs": [],
   "source": [
    "from scipy.spatial import distance"
   ]
  },
  {
   "cell_type": "code",
   "execution_count": 12,
   "id": "a5abae82",
   "metadata": {},
   "outputs": [],
   "source": [
    "metric = 'cosine'"
   ]
  },
  {
   "cell_type": "code",
   "execution_count": 13,
   "id": "ac45182b",
   "metadata": {},
   "outputs": [
    {
     "name": "stdout",
     "output_type": "stream",
     "text": [
      "[1.11022302e-16]\n",
      "the distance between cat1 and the cat1 is [1.11022302e-16]\n"
     ]
    }
   ],
   "source": [
    "dc = distance.cdist([dog1], [dog1], metric)[0]\n",
    "print(dc)\n",
    "print(\"the distance between cat1 and the cat1 is {}\".format(dc))"
   ]
  },
  {
   "cell_type": "code",
   "execution_count": 14,
   "id": "9a8d3c3e",
   "metadata": {},
   "outputs": [
    {
     "name": "stdout",
     "output_type": "stream",
     "text": [
      "[0.43278579]\n",
      "the distance between cat1 and the cat2 is [0.43278579]\n"
     ]
    }
   ],
   "source": [
    "dc = distance.cdist([dog1], [dog2], metric)[0]\n",
    "print(dc)\n",
    "print(\"the distance between cat1 and the cat2 is {}\".format(dc))"
   ]
  },
  {
   "cell_type": "code",
   "execution_count": 15,
   "id": "fa80734c",
   "metadata": {},
   "outputs": [
    {
     "name": "stdout",
     "output_type": "stream",
     "text": [
      "[0.61964959]\n",
      "the distance between cat1 and the cat2 is [0.61964959]\n"
     ]
    }
   ],
   "source": [
    "dc = distance.cdist([cat1], [dog2], metric)[0]\n",
    "print(dc)\n",
    "print(\"the distance between cat1 and the cat2 is {}\".format(dc))"
   ]
  },
  {
   "cell_type": "code",
   "execution_count": null,
   "id": "4d9ff9ba",
   "metadata": {},
   "outputs": [],
   "source": []
  }
 ],
 "metadata": {
  "kernelspec": {
   "display_name": "Python 3 (ipykernel)",
   "language": "python",
   "name": "python3"
  },
  "language_info": {
   "codemirror_mode": {
    "name": "ipython",
    "version": 3
   },
   "file_extension": ".py",
   "mimetype": "text/x-python",
   "name": "python",
   "nbconvert_exporter": "python",
   "pygments_lexer": "ipython3",
   "version": "3.9.13"
  }
 },
 "nbformat": 4,
 "nbformat_minor": 5
}
